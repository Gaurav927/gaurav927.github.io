{
 "cells": [
  {
   "cell_type": "code",
   "id": "initial_id",
   "metadata": {
    "collapsed": true,
    "ExecuteTime": {
     "end_time": "2025-11-01T07:35:27.447604Z",
     "start_time": "2025-11-01T07:35:27.445018Z"
    }
   },
   "source": [
    "import random\n",
    "from collections import namedtuple\n",
    "import numpy as np"
   ],
   "outputs": [],
   "execution_count": 69
  },
  {
   "metadata": {
    "ExecuteTime": {
     "end_time": "2025-11-01T07:35:27.849317Z",
     "start_time": "2025-11-01T07:35:27.846637Z"
    }
   },
   "cell_type": "code",
   "source": [
    "win = [0.9, 0.8, 0.7]\n",
    "NUM_EPOCH = 10000\n",
    "param = namedtuple('param', ['alpha', 'beta'])\n",
    "models_parameter = [param(1, 1), param(1, 1), param(1, 1)]\n",
    "\n",
    "actions_probability = []"
   ],
   "id": "30a7059106de6d02",
   "outputs": [],
   "execution_count": 70
  },
  {
   "metadata": {
    "ExecuteTime": {
     "end_time": "2025-11-01T07:35:28.347049Z",
     "start_time": "2025-11-01T07:35:28.242083Z"
    }
   },
   "cell_type": "code",
   "source": [
    "for epoch in range(NUM_EPOCH):\n",
    "    sampel = []\n",
    "    for alpha, beta in models_parameter:\n",
    "        theta = random.betavariate(alpha, beta)\n",
    "        sampel.append(theta)\n",
    "\n",
    "    idx = np.argmax(sampel)\n",
    "\n",
    "    rt = random.random()\n",
    "    award = 0\n",
    "    if rt > 1 - win[idx]:\n",
    "        award = 1\n",
    "\n",
    "    new_param = param(models_parameter[idx].alpha + award, models_parameter[idx].beta + (1 - award))\n",
    "    models_parameter[idx] = new_param\n",
    "    actions_probability.append([a/(a+b) for a, b in models_parameter])"
   ],
   "id": "82a6caa8d613a163",
   "outputs": [],
   "execution_count": 71
  },
  {
   "metadata": {
    "ExecuteTime": {
     "end_time": "2025-11-01T07:35:29.252728Z",
     "start_time": "2025-11-01T07:35:29.249190Z"
    }
   },
   "cell_type": "code",
   "source": "[a/(a+b) for a, b in models_parameter]",
   "id": "2cf6a2cce37b92f7",
   "outputs": [
    {
     "data": {
      "text/plain": [
       "[0.9020387359836901, 0.8129032258064516, 0.6585365853658537]"
      ]
     },
     "execution_count": 72,
     "metadata": {},
     "output_type": "execute_result"
    }
   ],
   "execution_count": 72
  },
  {
   "metadata": {
    "ExecuteTime": {
     "end_time": "2025-11-01T07:35:30.491911Z",
     "start_time": "2025-11-01T07:35:30.487647Z"
    }
   },
   "cell_type": "code",
   "source": "models_parameter",
   "id": "f523b26f0d28e46c",
   "outputs": [
    {
     "data": {
      "text/plain": [
       "[param(alpha=8849, beta=961),\n",
       " param(alpha=126, beta=29),\n",
       " param(alpha=27, beta=14)]"
      ]
     },
     "execution_count": 73,
     "metadata": {},
     "output_type": "execute_result"
    }
   ],
   "execution_count": 73
  },
  {
   "metadata": {
    "ExecuteTime": {
     "end_time": "2025-11-01T07:35:33.978277Z",
     "start_time": "2025-11-01T07:35:33.971225Z"
    }
   },
   "cell_type": "code",
   "source": "actions_probability = np.array(actions_probability).transpose()",
   "id": "3333a025bd2f2995",
   "outputs": [],
   "execution_count": 74
  },
  {
   "metadata": {
    "ExecuteTime": {
     "end_time": "2025-11-01T07:35:34.258594Z",
     "start_time": "2025-11-01T07:35:34.255037Z"
    }
   },
   "cell_type": "code",
   "source": "print(actions_probability)",
   "id": "7fe8d30355a841a3",
   "outputs": [
    {
     "name": "stdout",
     "output_type": "stream",
     "text": [
      "[[0.66666667 0.75       0.75       ... 0.90212072 0.90202875 0.90203874]\n",
      " [0.5        0.5        0.5        ... 0.81290323 0.81290323 0.81290323]\n",
      " [0.5        0.5        0.33333333 ... 0.65853659 0.65853659 0.65853659]]\n"
     ]
    }
   ],
   "execution_count": 75
  },
  {
   "metadata": {
    "ExecuteTime": {
     "end_time": "2025-11-01T07:35:35.006833Z",
     "start_time": "2025-11-01T07:35:34.967807Z"
    }
   },
   "cell_type": "code",
   "source": [
    "import matplotlib.pyplot as plt\n",
    "plt.plot(actions_probability[0])\n",
    "plt.plot(actions_probability[1])\n",
    "plt.plot(actions_probability[2])\n",
    "plt.show()"
   ],
   "id": "c4713fc9cfc4a297",
   "outputs": [
    {
     "data": {
      "text/plain": [
       "<Figure size 640x480 with 1 Axes>"
      ],
      "image/png": "[encoded data removed]"
     },
     "metadata": {},
     "output_type": "display_data",
     "jetTransient": {
      "display_id": null
     }
    }
   ],
   "execution_count": 76
  },
  {
   "metadata": {},
   "cell_type": "code",
   "outputs": [],
   "execution_count": null,
   "source": "plt.plot()",
   "id": "ee05d2824c206c37"
  }
 ],
 "metadata": {
  "kernelspec": {
   "display_name": "Python 3",
   "language": "python",
   "name": "python3"
  },
  "language_info": {
   "codemirror_mode": {
    "name": "ipython",
    "version": 2
   },
   "file_extension": ".py",
   "mimetype": "text/x-python",
   "name": "python",
   "nbconvert_exporter": "python",
   "pygments_lexer": "ipython2",
   "version": "2.7.6"
  }
 },
 "nbformat": 4,
 "nbformat_minor": 5
}
